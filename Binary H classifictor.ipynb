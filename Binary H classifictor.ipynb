{
 "cells": [
  {
   "cell_type": "code",
   "execution_count": 1,
   "id": "67808175",
   "metadata": {
    "ExecuteTime": {
     "end_time": "2023-03-30T11:01:37.852111Z",
     "start_time": "2023-03-30T11:01:35.117377Z"
    }
   },
   "outputs": [],
   "source": [
    "import tensorflow as tf\n",
    "from tensorflow.keras import layers, models\n",
    "\n",
    "# Define the input shape\n",
    "input_shape = (480, 640, 3)\n",
    "\n",
    "# Define the input tensor\n",
    "inputs = layers.Input(shape=input_shape)\n",
    "\n",
    "# Define the CNN architecture\n",
    "x = layers.Conv2D(32, (3, 3), activation='relu', padding='same')(inputs)\n",
    "x = layers.MaxPooling2D((2, 2))(x)\n",
    "x = layers.Conv2D(64, (3, 3), activation='relu', padding='same')(x)\n",
    "x = layers.MaxPooling2D((2, 2))(x)\n",
    "x = layers.Conv2D(64, (3, 3), activation='relu', padding='same')(x)\n",
    "x = layers.MaxPooling2D((2, 2))(x)\n",
    "x = layers.Flatten()(x)\n",
    "outputs = layers.Dense(1, activation='sigmoid')(x)\n",
    "\n",
    "# Create the model\n",
    "model = models.Model(inputs=inputs, outputs=outputs)\n",
    "\n",
    "# Compile the model\n",
    "model.compile(optimizer='adam', loss='binary_crossentropy', metrics='AUC')\n",
    "\n"
   ]
  },
  {
   "cell_type": "code",
   "execution_count": 2,
   "id": "5536d47d",
   "metadata": {
    "ExecuteTime": {
     "end_time": "2023-03-30T11:01:41.374709Z",
     "start_time": "2023-03-30T11:01:37.853102Z"
    },
    "code_folding": [
     3
    ]
   },
   "outputs": [],
   "source": [
    "import numpy as np\n",
    "X = np.load('8x640_480.npy')\n",
    "Y = np.load('8y640_480.npy')\n",
    "def swap_zeros_ones(arr):\n",
    "    arr[arr == 0] = 2\n",
    "    arr[arr == 1] = 0\n",
    "    arr[arr == 2] = 1\n",
    "    return arr\n",
    "Y = swap_zeros_ones(Y)"
   ]
  },
  {
   "cell_type": "code",
   "execution_count": 3,
   "id": "548e3e83",
   "metadata": {
    "ExecuteTime": {
     "end_time": "2023-03-30T11:01:42.279820Z",
     "start_time": "2023-03-30T11:01:41.375706Z"
    }
   },
   "outputs": [],
   "source": [
    "y = []\n",
    "for i in Y:\n",
    "    if np.average(i) == 0:\n",
    "        y.append(0)\n",
    "    else:\n",
    "        y.append(1)"
   ]
  },
  {
   "cell_type": "code",
   "execution_count": 4,
   "id": "231017e5",
   "metadata": {
    "ExecuteTime": {
     "end_time": "2023-03-30T11:01:42.295757Z",
     "start_time": "2023-03-30T11:01:42.281794Z"
    }
   },
   "outputs": [],
   "source": [
    "y = np.array(y)"
   ]
  },
  {
   "cell_type": "code",
   "execution_count": 5,
   "id": "9af47ee1",
   "metadata": {
    "ExecuteTime": {
     "end_time": "2023-03-30T11:01:46.321298Z",
     "start_time": "2023-03-30T11:01:42.296754Z"
    }
   },
   "outputs": [],
   "source": [
    "from sklearn.model_selection import train_test_split\n",
    "from tensorflow.keras.preprocessing.image import ImageDataGenerator\n",
    "\n",
    "# Split the data into training and validation sets\n",
    "train_images, val_images, train_labels, val_labels = train_test_split(\n",
    "    X, y, test_size=0.2\n",
    ")\n",
    "\n",
    "# Define the training data generator with data augmentation\n",
    "train_data_gen = ImageDataGenerator(\n",
    "    rotation_range=20,\n",
    "    width_shift_range=0.2,\n",
    "    height_shift_range=0.2,\n",
    "    shear_range=0.2,\n",
    "    zoom_range=0.2,\n",
    "    horizontal_flip=True\n",
    ")\n",
    "\n",
    "# Define the validation data generator without data augmentation or rescaling\n",
    "val_data_gen = ImageDataGenerator()\n",
    "\n",
    "# Create the training data iterator\n",
    "train_data_iterator = train_data_gen.flow(\n",
    "    train_images, train_labels,\n",
    "    batch_size=32\n",
    ")\n",
    "\n",
    "# Create the validation data iterator\n",
    "val_data_iterator = val_data_gen.flow(\n",
    "    val_images, val_labels,\n",
    "    batch_size=32\n",
    ")\n",
    "\n",
    "# # Train the model using the training and validation data iterators\n",
    "# model.fit(\n",
    "#     train_data_iterator,\n",
    "#     epochs=epochs,\n",
    "#     steps_per_epoch=len(train_images) // batch_size,\n",
    "#     validation_data=val_data_iterator,\n",
    "#     validation_steps=len(val_images) // batch_size\n",
    "# )\n"
   ]
  },
  {
   "cell_type": "code",
   "execution_count": 6,
   "id": "189fc056",
   "metadata": {
    "ExecuteTime": {
     "end_time": "2023-03-30T11:01:46.336258Z",
     "start_time": "2023-03-30T11:01:46.322295Z"
    }
   },
   "outputs": [],
   "source": [
    "from keras.callbacks import EarlyStopping\n",
    "patience = 20\n",
    "early_stopping = EarlyStopping(monitor='val_auc', restore_best_weights = True, min_delta=0.0001, patience= patience, verbose = 1, mode = 'max')"
   ]
  },
  {
   "cell_type": "code",
   "execution_count": 7,
   "id": "344b2009",
   "metadata": {
    "ExecuteTime": {
     "end_time": "2023-03-30T14:18:20.201742Z",
     "start_time": "2023-03-30T11:01:46.337256Z"
    },
    "scrolled": true
   },
   "outputs": [
    {
     "name": "stdout",
     "output_type": "stream",
     "text": [
      "Epoch 1/500\n",
      "104/104 [==============================] - 139s 1s/step - loss: 22.4329 - auc: 0.7213 - val_loss: 0.5166 - val_auc: 0.8539\n",
      "Epoch 2/500\n",
      "104/104 [==============================] - 138s 1s/step - loss: 0.4810 - auc: 0.8527 - val_loss: 0.4313 - val_auc: 0.8880\n",
      "Epoch 3/500\n",
      "104/104 [==============================] - 138s 1s/step - loss: 0.5572 - auc: 0.8350 - val_loss: 0.5263 - val_auc: 0.8149\n",
      "Epoch 4/500\n",
      "104/104 [==============================] - 138s 1s/step - loss: 0.5240 - auc: 0.8162 - val_loss: 0.5277 - val_auc: 0.8698\n",
      "Epoch 5/500\n",
      "104/104 [==============================] - 138s 1s/step - loss: 0.4652 - auc: 0.8643 - val_loss: 0.4807 - val_auc: 0.8531\n",
      "Epoch 6/500\n",
      "104/104 [==============================] - 139s 1s/step - loss: 0.4420 - auc: 0.8719 - val_loss: 0.3854 - val_auc: 0.9031\n",
      "Epoch 7/500\n",
      "104/104 [==============================] - 138s 1s/step - loss: 0.4088 - auc: 0.8907 - val_loss: 0.3254 - val_auc: 0.9277\n",
      "Epoch 8/500\n",
      "104/104 [==============================] - 138s 1s/step - loss: 0.3870 - auc: 0.9055 - val_loss: 0.3284 - val_auc: 0.9323\n",
      "Epoch 9/500\n",
      "104/104 [==============================] - 137s 1s/step - loss: 0.3526 - auc: 0.9224 - val_loss: 0.3110 - val_auc: 0.9386\n",
      "Epoch 10/500\n",
      "104/104 [==============================] - 140s 1s/step - loss: 0.3415 - auc: 0.9285 - val_loss: 0.3006 - val_auc: 0.9425\n",
      "Epoch 11/500\n",
      "104/104 [==============================] - 139s 1s/step - loss: 0.3342 - auc: 0.9313 - val_loss: 0.3027 - val_auc: 0.9387\n",
      "Epoch 12/500\n",
      "104/104 [==============================] - 134s 1s/step - loss: 0.3324 - auc: 0.9304 - val_loss: 0.3359 - val_auc: 0.9370\n",
      "Epoch 13/500\n",
      "104/104 [==============================] - 133s 1s/step - loss: 0.3243 - auc: 0.9349 - val_loss: 0.3020 - val_auc: 0.9471\n",
      "Epoch 14/500\n",
      "104/104 [==============================] - 133s 1s/step - loss: 0.3242 - auc: 0.9367 - val_loss: 0.3170 - val_auc: 0.9405\n",
      "Epoch 15/500\n",
      "104/104 [==============================] - 137s 1s/step - loss: 0.3861 - auc: 0.9120 - val_loss: 0.3239 - val_auc: 0.9371\n",
      "Epoch 16/500\n",
      "104/104 [==============================] - 139s 1s/step - loss: 0.3136 - auc: 0.9396 - val_loss: 0.2915 - val_auc: 0.9474\n",
      "Epoch 17/500\n",
      "104/104 [==============================] - 137s 1s/step - loss: 0.3197 - auc: 0.9345 - val_loss: 0.2877 - val_auc: 0.9507\n",
      "Epoch 18/500\n",
      "104/104 [==============================] - 137s 1s/step - loss: 0.3314 - auc: 0.9326 - val_loss: 0.2943 - val_auc: 0.9475\n",
      "Epoch 19/500\n",
      "104/104 [==============================] - 137s 1s/step - loss: 0.2956 - auc: 0.9466 - val_loss: 0.2757 - val_auc: 0.9526\n",
      "Epoch 20/500\n",
      "104/104 [==============================] - 137s 1s/step - loss: 0.3175 - auc: 0.9382 - val_loss: 0.2934 - val_auc: 0.9455\n",
      "Epoch 21/500\n",
      "104/104 [==============================] - 137s 1s/step - loss: 0.3008 - auc: 0.9427 - val_loss: 0.2497 - val_auc: 0.9596\n",
      "Epoch 22/500\n",
      "104/104 [==============================] - 135s 1s/step - loss: 0.2828 - auc: 0.9486 - val_loss: 0.2637 - val_auc: 0.9560\n",
      "Epoch 23/500\n",
      "104/104 [==============================] - 135s 1s/step - loss: 0.2984 - auc: 0.9447 - val_loss: 0.2830 - val_auc: 0.9477\n",
      "Epoch 24/500\n",
      "104/104 [==============================] - 138s 1s/step - loss: 0.3229 - auc: 0.9332 - val_loss: 0.2806 - val_auc: 0.9510\n",
      "Epoch 25/500\n",
      "104/104 [==============================] - 137s 1s/step - loss: 0.2662 - auc: 0.9556 - val_loss: 0.2527 - val_auc: 0.9614\n",
      "Epoch 26/500\n",
      "104/104 [==============================] - 138s 1s/step - loss: 0.3115 - auc: 0.9402 - val_loss: 0.2411 - val_auc: 0.9614\n",
      "Epoch 27/500\n",
      "104/104 [==============================] - 137s 1s/step - loss: 0.2435 - auc: 0.9611 - val_loss: 0.2381 - val_auc: 0.9631\n",
      "Epoch 28/500\n",
      "104/104 [==============================] - 139s 1s/step - loss: 0.2597 - auc: 0.9581 - val_loss: 0.2816 - val_auc: 0.9634\n",
      "Epoch 29/500\n",
      "104/104 [==============================] - 137s 1s/step - loss: 0.2384 - auc: 0.9653 - val_loss: 0.2285 - val_auc: 0.9669\n",
      "Epoch 30/500\n",
      "104/104 [==============================] - 136s 1s/step - loss: 0.2211 - auc: 0.9686 - val_loss: 0.2153 - val_auc: 0.9685\n",
      "Epoch 31/500\n",
      "104/104 [==============================] - 136s 1s/step - loss: 0.2389 - auc: 0.9650 - val_loss: 0.2349 - val_auc: 0.9637\n",
      "Epoch 32/500\n",
      "104/104 [==============================] - 140s 1s/step - loss: 0.2394 - auc: 0.9646 - val_loss: 0.3339 - val_auc: 0.9704\n",
      "Epoch 33/500\n",
      "104/104 [==============================] - 137s 1s/step - loss: 0.2416 - auc: 0.9629 - val_loss: 0.2236 - val_auc: 0.9672\n",
      "Epoch 34/500\n",
      "104/104 [==============================] - 137s 1s/step - loss: 0.2442 - auc: 0.9626 - val_loss: 0.2484 - val_auc: 0.9698\n",
      "Epoch 35/500\n",
      "104/104 [==============================] - 138s 1s/step - loss: 0.2183 - auc: 0.9688 - val_loss: 0.2118 - val_auc: 0.9725\n",
      "Epoch 36/500\n",
      "104/104 [==============================] - 138s 1s/step - loss: 0.2267 - auc: 0.9681 - val_loss: 0.2066 - val_auc: 0.9734\n",
      "Epoch 37/500\n",
      "104/104 [==============================] - 137s 1s/step - loss: 0.2115 - auc: 0.9707 - val_loss: 0.2159 - val_auc: 0.9707\n",
      "Epoch 38/500\n",
      "104/104 [==============================] - 136s 1s/step - loss: 0.2535 - auc: 0.9587 - val_loss: 0.1907 - val_auc: 0.9768\n",
      "Epoch 39/500\n",
      "104/104 [==============================] - 137s 1s/step - loss: 0.2138 - auc: 0.9710 - val_loss: 0.2080 - val_auc: 0.9741\n",
      "Epoch 40/500\n",
      "104/104 [==============================] - 136s 1s/step - loss: 0.2098 - auc: 0.9694 - val_loss: 0.1955 - val_auc: 0.9711\n",
      "Epoch 41/500\n",
      "104/104 [==============================] - 138s 1s/step - loss: 0.2079 - auc: 0.9695 - val_loss: 0.2626 - val_auc: 0.9684\n",
      "Epoch 42/500\n",
      "104/104 [==============================] - 136s 1s/step - loss: 0.2057 - auc: 0.9720 - val_loss: 0.2943 - val_auc: 0.9699\n",
      "Epoch 43/500\n",
      "104/104 [==============================] - 136s 1s/step - loss: 0.2292 - auc: 0.9664 - val_loss: 0.1951 - val_auc: 0.9720\n",
      "Epoch 44/500\n",
      "104/104 [==============================] - 136s 1s/step - loss: 0.2274 - auc: 0.9659 - val_loss: 0.1766 - val_auc: 0.9771\n",
      "Epoch 45/500\n",
      "104/104 [==============================] - 138s 1s/step - loss: 0.2200 - auc: 0.9696 - val_loss: 0.2166 - val_auc: 0.9729\n",
      "Epoch 46/500\n",
      "104/104 [==============================] - 136s 1s/step - loss: 0.2192 - auc: 0.9685 - val_loss: 0.1771 - val_auc: 0.9791\n",
      "Epoch 47/500\n",
      "104/104 [==============================] - 138s 1s/step - loss: 0.2387 - auc: 0.9622 - val_loss: 0.1866 - val_auc: 0.9818\n",
      "Epoch 48/500\n",
      "104/104 [==============================] - 136s 1s/step - loss: 0.2206 - auc: 0.9691 - val_loss: 0.1769 - val_auc: 0.9776\n",
      "Epoch 49/500\n",
      "104/104 [==============================] - 137s 1s/step - loss: 0.1932 - auc: 0.9748 - val_loss: 0.2145 - val_auc: 0.9762\n",
      "Epoch 50/500\n",
      "104/104 [==============================] - 137s 1s/step - loss: 0.1950 - auc: 0.9741 - val_loss: 0.1724 - val_auc: 0.9815\n",
      "Epoch 51/500\n",
      "104/104 [==============================] - 137s 1s/step - loss: 0.2134 - auc: 0.9720 - val_loss: 0.2115 - val_auc: 0.9699\n",
      "Epoch 52/500\n",
      "104/104 [==============================] - 139s 1s/step - loss: 0.1930 - auc: 0.9755 - val_loss: 0.2337 - val_auc: 0.9732\n",
      "Epoch 53/500\n",
      "104/104 [==============================] - 136s 1s/step - loss: 0.1899 - auc: 0.9759 - val_loss: 0.1832 - val_auc: 0.9777\n",
      "Epoch 54/500\n",
      "104/104 [==============================] - 136s 1s/step - loss: 0.1957 - auc: 0.9758 - val_loss: 0.1826 - val_auc: 0.9825\n",
      "Epoch 55/500\n",
      "104/104 [==============================] - 136s 1s/step - loss: 0.1944 - auc: 0.9753 - val_loss: 0.1847 - val_auc: 0.9848\n",
      "Epoch 56/500\n",
      "104/104 [==============================] - 138s 1s/step - loss: 0.2286 - auc: 0.9657 - val_loss: 0.1771 - val_auc: 0.9795\n",
      "Epoch 57/500\n",
      "104/104 [==============================] - 138s 1s/step - loss: 0.2106 - auc: 0.9712 - val_loss: 0.2094 - val_auc: 0.9733\n",
      "Epoch 58/500\n",
      "104/104 [==============================] - 136s 1s/step - loss: 0.2049 - auc: 0.9730 - val_loss: 0.1914 - val_auc: 0.9746\n",
      "Epoch 59/500\n",
      "104/104 [==============================] - 136s 1s/step - loss: 0.2743 - auc: 0.9540 - val_loss: 0.2066 - val_auc: 0.9730\n",
      "Epoch 60/500\n",
      "104/104 [==============================] - 132s 1s/step - loss: 0.2137 - auc: 0.9708 - val_loss: 0.1755 - val_auc: 0.9853\n",
      "Epoch 61/500\n",
      "104/104 [==============================] - 143s 1s/step - loss: 0.2248 - auc: 0.9669 - val_loss: 0.2063 - val_auc: 0.9747\n"
     ]
    },
    {
     "name": "stdout",
     "output_type": "stream",
     "text": [
      "Epoch 62/500\n",
      "104/104 [==============================] - 139s 1s/step - loss: 0.2241 - auc: 0.9656 - val_loss: 0.1996 - val_auc: 0.9785\n",
      "Epoch 63/500\n",
      "104/104 [==============================] - 139s 1s/step - loss: 0.2223 - auc: 0.9677 - val_loss: 0.2318 - val_auc: 0.9634\n",
      "Epoch 64/500\n",
      "104/104 [==============================] - 137s 1s/step - loss: 0.2732 - auc: 0.9549 - val_loss: 0.2517 - val_auc: 0.9703\n",
      "Epoch 65/500\n",
      "104/104 [==============================] - 137s 1s/step - loss: 0.2313 - auc: 0.9668 - val_loss: 0.1887 - val_auc: 0.9801\n",
      "Epoch 66/500\n",
      "104/104 [==============================] - 139s 1s/step - loss: 0.2264 - auc: 0.9665 - val_loss: 0.1688 - val_auc: 0.9856\n",
      "Epoch 67/500\n",
      "104/104 [==============================] - 137s 1s/step - loss: 0.2527 - auc: 0.9620 - val_loss: 0.2561 - val_auc: 0.9642\n",
      "Epoch 68/500\n",
      "104/104 [==============================] - 137s 1s/step - loss: 0.2587 - auc: 0.9597 - val_loss: 0.2439 - val_auc: 0.9749\n",
      "Epoch 69/500\n",
      "104/104 [==============================] - 137s 1s/step - loss: 0.2112 - auc: 0.9703 - val_loss: 0.1866 - val_auc: 0.9822\n",
      "Epoch 70/500\n",
      "104/104 [==============================] - 136s 1s/step - loss: 0.2264 - auc: 0.9663 - val_loss: 0.1978 - val_auc: 0.9740\n",
      "Epoch 71/500\n",
      "104/104 [==============================] - 137s 1s/step - loss: 0.2104 - auc: 0.9719 - val_loss: 0.2186 - val_auc: 0.9734\n",
      "Epoch 72/500\n",
      "104/104 [==============================] - 137s 1s/step - loss: 0.2017 - auc: 0.9729 - val_loss: 0.2507 - val_auc: 0.9706\n",
      "Epoch 73/500\n",
      "104/104 [==============================] - 136s 1s/step - loss: 0.2448 - auc: 0.9638 - val_loss: 0.2086 - val_auc: 0.9723\n",
      "Epoch 74/500\n",
      "104/104 [==============================] - 136s 1s/step - loss: 0.1805 - auc: 0.9792 - val_loss: 0.2068 - val_auc: 0.9801\n",
      "Epoch 75/500\n",
      "104/104 [==============================] - 137s 1s/step - loss: 0.1853 - auc: 0.9781 - val_loss: 0.2147 - val_auc: 0.9809\n",
      "Epoch 76/500\n",
      "104/104 [==============================] - 138s 1s/step - loss: 0.1986 - auc: 0.9742 - val_loss: 0.1675 - val_auc: 0.9845\n",
      "Epoch 77/500\n",
      "104/104 [==============================] - 136s 1s/step - loss: 0.2000 - auc: 0.9742 - val_loss: 0.1996 - val_auc: 0.9755\n",
      "Epoch 78/500\n",
      "104/104 [==============================] - 136s 1s/step - loss: 0.2141 - auc: 0.9697 - val_loss: 0.2603 - val_auc: 0.9648\n",
      "Epoch 79/500\n",
      "104/104 [==============================] - 137s 1s/step - loss: 0.2882 - auc: 0.9499 - val_loss: 0.3504 - val_auc: 0.9226\n",
      "Epoch 80/500\n",
      "104/104 [==============================] - 135s 1s/step - loss: 0.3083 - auc: 0.9420 - val_loss: 0.2250 - val_auc: 0.9669\n",
      "Epoch 81/500\n",
      "104/104 [==============================] - 136s 1s/step - loss: 0.3186 - auc: 0.9376 - val_loss: 0.2243 - val_auc: 0.9727\n",
      "Epoch 82/500\n",
      "104/104 [==============================] - 138s 1s/step - loss: 0.2237 - auc: 0.9679 - val_loss: 0.2039 - val_auc: 0.9727\n",
      "Epoch 83/500\n",
      "104/104 [==============================] - 140s 1s/step - loss: 0.2136 - auc: 0.9700 - val_loss: 0.1937 - val_auc: 0.9783\n",
      "Epoch 84/500\n",
      "104/104 [==============================] - 137s 1s/step - loss: 0.2017 - auc: 0.9726 - val_loss: 0.2194 - val_auc: 0.9758\n",
      "Epoch 85/500\n",
      "104/104 [==============================] - 137s 1s/step - loss: 0.1868 - auc: 0.9764 - val_loss: 0.2275 - val_auc: 0.9683\n",
      "Epoch 86/500\n",
      "104/104 [==============================] - ETA: 0s - loss: 0.2012 - auc: 0.9726Restoring model weights from the end of the best epoch: 66.\n",
      "104/104 [==============================] - 136s 1s/step - loss: 0.2012 - auc: 0.9726 - val_loss: 0.1744 - val_auc: 0.9805\n",
      "Epoch 86: early stopping\n"
     ]
    }
   ],
   "source": [
    "# Train the model using the training and validation data iterators\n",
    "history = model.fit(\n",
    "    train_data_iterator,\n",
    "    epochs=500,\n",
    "    batch_size=32,\n",
    "    validation_data=val_data_iterator,\n",
    "    callbacks=[early_stopping]\n",
    ")"
   ]
  },
  {
   "cell_type": "code",
   "execution_count": 16,
   "id": "99c02f40",
   "metadata": {
    "ExecuteTime": {
     "end_time": "2023-03-30T14:19:39.107613Z",
     "start_time": "2023-03-30T14:19:38.315068Z"
    }
   },
   "outputs": [
    {
     "name": "stderr",
     "output_type": "stream",
     "text": [
      "WARNING:absl:Found untraced functions such as _jit_compiled_convolution_op, _jit_compiled_convolution_op, _jit_compiled_convolution_op while saving (showing 3 of 3). These functions will not be directly callable after loading.\n"
     ]
    },
    {
     "name": "stdout",
     "output_type": "stream",
     "text": [
      "INFO:tensorflow:Assets written to: binary_classificator_H_v5_640x480\\assets\n"
     ]
    },
    {
     "name": "stderr",
     "output_type": "stream",
     "text": [
      "INFO:tensorflow:Assets written to: binary_classificator_H_v5_640x480\\assets\n"
     ]
    }
   ],
   "source": [
    "model.save('binary_classificator_H_v5_640x480')"
   ]
  }
 ],
 "metadata": {
  "kernelspec": {
   "display_name": "Python 3 (ipykernel)",
   "language": "python",
   "name": "python3"
  },
  "language_info": {
   "codemirror_mode": {
    "name": "ipython",
    "version": 3
   },
   "file_extension": ".py",
   "mimetype": "text/x-python",
   "name": "python",
   "nbconvert_exporter": "python",
   "pygments_lexer": "ipython3",
   "version": "3.10.9"
  }
 },
 "nbformat": 4,
 "nbformat_minor": 5
}
